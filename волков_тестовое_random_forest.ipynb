{
  "nbformat": 4,
  "nbformat_minor": 0,
  "metadata": {
    "colab": {
      "provenance": []
    },
    "kernelspec": {
      "name": "python3",
      "display_name": "Python 3"
    },
    "language_info": {
      "name": "python"
    }
  },
  "cells": [
    {
      "cell_type": "markdown",
      "source": [
        "#загрузка файлов"
      ],
      "metadata": {
        "id": "4k4I-Emr7brY"
      }
    },
    {
      "cell_type": "code",
      "execution_count": 609,
      "metadata": {
        "id": "3onrPqALMNON"
      },
      "outputs": [],
      "source": [
        "import pandas as pd"
      ]
    },
    {
      "cell_type": "code",
      "source": [
        "stats = pd.read_csv('players_feats.csv')\n",
        "train = pd.read_csv('train.csv')\n",
        "testing = pd.read_csv('test.csv')"
      ],
      "metadata": {
        "id": "owNoCbwQMVyP"
      },
      "execution_count": 610,
      "outputs": []
    },
    {
      "cell_type": "markdown",
      "source": [
        "#проверка и предобработка данных"
      ],
      "metadata": {
        "id": "uqoch16T7ghY"
      }
    },
    {
      "cell_type": "code",
      "source": [
        "sum(testing.isnull().values.ravel())"
      ],
      "metadata": {
        "colab": {
          "base_uri": "https://localhost:8080/"
        },
        "id": "Tmq2vZiSMWdn",
        "outputId": "0270941f-1b5e-4591-df7b-8bf0c0482533"
      },
      "execution_count": 611,
      "outputs": [
        {
          "output_type": "execute_result",
          "data": {
            "text/plain": [
              "0"
            ]
          },
          "metadata": {},
          "execution_count": 611
        }
      ]
    },
    {
      "cell_type": "code",
      "source": [
        "sum(train.isnull().values.ravel())"
      ],
      "metadata": {
        "colab": {
          "base_uri": "https://localhost:8080/"
        },
        "id": "8jVUIHGZMZ8B",
        "outputId": "58ce3a38-f0ca-4dfd-c6d0-675bc2556d04"
      },
      "execution_count": 612,
      "outputs": [
        {
          "output_type": "execute_result",
          "data": {
            "text/plain": [
              "0"
            ]
          },
          "metadata": {},
          "execution_count": 612
        }
      ]
    },
    {
      "cell_type": "code",
      "source": [
        "sum(stats.isnull().values.ravel())"
      ],
      "metadata": {
        "colab": {
          "base_uri": "https://localhost:8080/"
        },
        "id": "Vt0t6cBwMaDG",
        "outputId": "a87363a7-843d-49b7-80d2-2cce82a44c1c"
      },
      "execution_count": 613,
      "outputs": [
        {
          "output_type": "execute_result",
          "data": {
            "text/plain": [
              "18"
            ]
          },
          "metadata": {},
          "execution_count": 613
        }
      ]
    },
    {
      "cell_type": "markdown",
      "source": [
        "#Как можно заметить, есть пустые значения, заменим на средние значения по столбцу"
      ],
      "metadata": {
        "id": "Xe-odsEu7ogE"
      }
    },
    {
      "cell_type": "code",
      "source": [
        "a = stats.isna()\n",
        "for column in a.columns:\n",
        "  if sum(a[column])!=0:\n",
        "    print(column, sum(a[column]))"
      ],
      "metadata": {
        "colab": {
          "base_uri": "https://localhost:8080/"
        },
        "id": "wbn0_voTMaGM",
        "outputId": "73f7d4d3-13ce-4be1-d331-fb40a1bd2cb5"
      },
      "execution_count": 614,
      "outputs": [
        {
          "output_type": "stream",
          "name": "stdout",
          "text": [
            "p1_team_win_percent_after_first_kill 3\n",
            "p2_team_win_percent_after_first_kill 3\n",
            "p3_team_win_percent_after_first_kill 4\n",
            "p4_team_win_percent_after_first_kill 4\n",
            "p5_team_win_percent_after_first_kill 4\n"
          ]
        }
      ]
    },
    {
      "cell_type": "code",
      "source": [
        "stats['p1_team_win_percent_after_first_kill'].fillna(value = stats['p1_team_win_percent_after_first_kill'].mean(), inplace = True)\n",
        "stats['p2_team_win_percent_after_first_kill'].fillna(value = stats['p2_team_win_percent_after_first_kill'].mean(), inplace = True)\n",
        "stats['p3_team_win_percent_after_first_kill'].fillna(value = stats['p3_team_win_percent_after_first_kill'].mean(), inplace = True)\n",
        "stats['p4_team_win_percent_after_first_kill'].fillna(value = stats['p4_team_win_percent_after_first_kill'].mean(), inplace = True)\n",
        "stats['p5_team_win_percent_after_first_kill'].fillna(value = stats['p5_team_win_percent_after_first_kill'].mean(), inplace = True)"
      ],
      "metadata": {
        "id": "4KvsPjTqMaLv"
      },
      "execution_count": 615,
      "outputs": []
    },
    {
      "cell_type": "code",
      "source": [
        "sum(stats.isnull().values.ravel())"
      ],
      "metadata": {
        "colab": {
          "base_uri": "https://localhost:8080/"
        },
        "id": "ju9D3n5AMaQw",
        "outputId": "efdd51e6-8678-42b6-e78f-adbf312d2131"
      },
      "execution_count": 616,
      "outputs": [
        {
          "output_type": "execute_result",
          "data": {
            "text/plain": [
              "0"
            ]
          },
          "metadata": {},
          "execution_count": 616
        }
      ]
    },
    {
      "cell_type": "markdown",
      "source": [
        "#создание фичей и объединение с тренировочной выборкой"
      ],
      "metadata": {
        "id": "MIhcjZ-h74ta"
      }
    },
    {
      "cell_type": "code",
      "source": [
        "stats['av_maps'] = (stats['p1_maps_played']+stats['p2_maps_played']+stats['p3_maps_played']+stats['p4_maps_played']+stats['p5_maps_played'])/5\n",
        "stats['av_entry'] = stats['p1_total_opening_kills']/stats['p1_rounds_played'] + stats['p2_total_opening_kills']/stats['p2_rounds_played'] + stats['p3_total_opening_kills']/stats['p3_rounds_played']+ stats['p4_total_opening_kills']/stats['p4_rounds_played']+stats['p5_total_opening_kills']/stats['p5_rounds_played']\n",
        "stats['av_entry_death'] = stats['p1_total_opening_deaths']/stats['p1_rounds_played'] + stats['p2_total_opening_deaths']/stats['p2_rounds_played'] + stats['p3_total_opening_deaths']/stats['p3_rounds_played']+ stats['p4_total_opening_deaths']/stats['p4_rounds_played']+stats['p5_total_opening_deaths']/stats['p5_rounds_played']\n",
        "stats['saved_mates'] = stats[['p1_saved_teammates_per_round', 'p2_saved_teammates_per_round', 'p3_saved_teammates_per_round', 'p4_saved_teammates_per_round', 'p5_saved_teammates_per_round']].sum(axis=1)\n",
        "stats['av_kd'] = stats[['p1_total_kills', 'p2_total_kills', 'p3_total_kills', 'p4_total_kills', 'p5_total_kills']].sum(axis=1)/stats[['p1_total_deaths', 'p2_total_deaths', 'p3_total_deaths', 'p4_total_deaths', 'p5_total_deaths']].sum(axis=1)\n",
        "stats['av_damage'] = stats[['p1_damage_per_round', 'p2_damage_per_round', 'p3_damage_per_round', 'p4_damage_per_round', 'p5_damage_per_round']].sum(axis=1)/100\n",
        "stats['av_rating'] = stats[['p1_rating', 'p2_rating', 'p3_rating', 'p4_rating', 'p5_rating']].mean(axis=1)\n",
        "stats['top_player'] = stats[['p1_rating', 'p2_rating', 'p3_rating', 'p4_rating', 'p5_rating']].max(axis=1)\n",
        "stats['worst_player'] = stats[['p1_rating', 'p2_rating', 'p3_rating', 'p4_rating', 'p5_rating']].min(axis=1)\n",
        "stats['assists'] = stats[['p1_assists_per_round', 'p2_assists_per_round', 'p3_assists_per_round', 'p4_assists_per_round', 'p5_assists_per_round']].sum(axis=1)\n",
        "stats['headshots'] = stats[['p1_headshots', 'p2_headshots', 'p3_headshots', 'p4_headshots', 'p5_headshots']].mean(axis=1)/100\n",
        "stats['entry_wins'] = stats[['p1_first_kill_in_won_rounds', 'p2_first_kill_in_won_rounds', 'p3_first_kill_in_won_rounds', 'p4_first_kill_in_won_rounds', 'p5_first_kill_in_won_rounds']].sum(axis=1)/stats[['p1_total_opening_kills', 'p2_total_opening_kills', 'p3_total_opening_kills', 'p4_total_opening_kills', 'p5_total_opening_kills']].sum(axis=1)"
      ],
      "metadata": {
        "id": "Z_KkDNsNMaUf"
      },
      "execution_count": 617,
      "outputs": []
    },
    {
      "cell_type": "code",
      "source": [
        "new_stats = stats[['av_maps', 'map_id', 'av_entry', 'av_entry_death', 'saved_mates', 'av_kd', 'av_damage', 'av_rating', 'top_player',\n",
        "                   'worst_player', 'assists', 'headshots', 'entry_wins']]\n",
        "new_stats['team1_id'] = stats['team_id']\n",
        "new_stats1 = stats[['av_maps', 'map_id', 'av_entry', 'av_entry_death', 'saved_mates', 'av_kd', 'av_damage', 'av_rating', 'top_player',\n",
        "                    'worst_player', 'assists', 'headshots', 'entry_wins']]\n",
        "new_stats1['team2_id'] = stats['team_id']"
      ],
      "metadata": {
        "colab": {
          "base_uri": "https://localhost:8080/"
        },
        "id": "Hjkr_-4YObKx",
        "outputId": "802a9075-499e-4614-db96-6fd45fe757dc"
      },
      "execution_count": 618,
      "outputs": [
        {
          "output_type": "stream",
          "name": "stderr",
          "text": [
            "<ipython-input-618-f8657e4a54c6>:3: SettingWithCopyWarning: \n",
            "A value is trying to be set on a copy of a slice from a DataFrame.\n",
            "Try using .loc[row_indexer,col_indexer] = value instead\n",
            "\n",
            "See the caveats in the documentation: https://pandas.pydata.org/pandas-docs/stable/user_guide/indexing.html#returning-a-view-versus-a-copy\n",
            "  new_stats['team1_id'] = stats['team_id']\n",
            "<ipython-input-618-f8657e4a54c6>:6: SettingWithCopyWarning: \n",
            "A value is trying to be set on a copy of a slice from a DataFrame.\n",
            "Try using .loc[row_indexer,col_indexer] = value instead\n",
            "\n",
            "See the caveats in the documentation: https://pandas.pydata.org/pandas-docs/stable/user_guide/indexing.html#returning-a-view-versus-a-copy\n",
            "  new_stats1['team2_id'] = stats['team_id']\n"
          ]
        }
      ]
    },
    {
      "cell_type": "code",
      "source": [
        "new_stats=new_stats.dropna()\n",
        "new_stats1=new_stats1.dropna()"
      ],
      "metadata": {
        "id": "Hek_EdlHY_LT"
      },
      "execution_count": 619,
      "outputs": []
    },
    {
      "cell_type": "code",
      "source": [
        "train1 = pd.merge(train, new_stats, on = ['map_id', 'team1_id'], how = 'inner')\n",
        "train = pd.merge(train1, new_stats1, on = ['map_id', 'team2_id'], how = 'inner')"
      ],
      "metadata": {
        "id": "m26NFlEWQSux"
      },
      "execution_count": 620,
      "outputs": []
    },
    {
      "cell_type": "code",
      "source": [
        "train['maps_diff'] = train['av_maps_x']- train['av_maps_y']\n",
        "train['av_entry_diff'] = train['av_entry_x']- train['av_entry_y']\n",
        "train['av_entry_death_diff'] = train['av_entry_death_x']- train['av_entry_death_y']\n",
        "train['av_saved_mates_diff'] = train['saved_mates_x']- train['saved_mates_y']\n",
        "train['av_kd_diff'] = train['av_kd_x']-train['av_kd_y']\n",
        "train['av_damage_diff'] = train['av_damage_x']- train['av_damage_y']\n",
        "train['top_player_diff'] = train['top_player_x']-train['top_player_y']\n",
        "train['av_rating'] = train['av_rating_x']-train['av_rating_y']\n",
        "train['worst_player_diff'] = train['worst_player_x']-train['worst_player_y']\n",
        "train['assists_diff'] = train['assists_x']-train['assists_y']\n",
        "train['headshots_diff'] = train['headshots_x']-train['headshots_y']\n",
        "train['entry_wins_diff'] = train['entry_wins_x']-train['entry_wins_y']"
      ],
      "metadata": {
        "id": "ckSCGk-pUdRo"
      },
      "execution_count": 621,
      "outputs": []
    },
    {
      "cell_type": "code",
      "source": [
        "y = train['who_win']\n",
        "X = train[['maps_diff','av_saved_mates_diff', 'av_kd_diff', 'av_entry_death_diff', 'av_entry_diff', 'av_damage_diff',\n",
        "           'top_player_diff','av_rating', 'entry_wins_diff']]"
      ],
      "metadata": {
        "id": "z2a8v0fDVDrG"
      },
      "execution_count": 622,
      "outputs": []
    },
    {
      "cell_type": "markdown",
      "source": [
        "# Создаем модель random forest"
      ],
      "metadata": {
        "id": "vLuOdT2c8Gm-"
      }
    },
    {
      "cell_type": "code",
      "source": [
        "import sklearn\n",
        "from sklearn.model_selection import train_test_split"
      ],
      "metadata": {
        "id": "bYoQG49fV0Jf"
      },
      "execution_count": 623,
      "outputs": []
    },
    {
      "cell_type": "code",
      "source": [
        "X_train,X_test,y_train,y_test=train_test_split(X,y,test_size=0.3,random_state=5)"
      ],
      "metadata": {
        "id": "qjEFs4ACV34N"
      },
      "execution_count": 624,
      "outputs": []
    },
    {
      "cell_type": "code",
      "source": [
        "from sklearn.ensemble import RandomForestClassifier\n",
        "clf = RandomForestClassifier(class_weight='balanced', random_state=0)\n"
      ],
      "metadata": {
        "id": "RiY7mjkQV7WG"
      },
      "execution_count": 625,
      "outputs": []
    },
    {
      "cell_type": "code",
      "source": [
        "from sklearn import metrics\n",
        "from sklearn.model_selection import GridSearchCV\n",
        "parametrs = { 'n_estimators': range (10, 51, 10),\n",
        "              'max_depth': [3,4, 5,6],\n",
        "              'min_samples_leaf': range (1,6),\n",
        "              'min_samples_split': range (2,8,2) }"
      ],
      "metadata": {
        "id": "htC_uSIubSUO"
      },
      "execution_count": 626,
      "outputs": []
    },
    {
      "cell_type": "code",
      "source": [
        "grid = GridSearchCV(clf, parametrs, cv=5, scoring='accuracy')\n",
        "grid.fit(X_train, y_train)\n",
        "grid.best_params_"
      ],
      "metadata": {
        "colab": {
          "base_uri": "https://localhost:8080/"
        },
        "id": "02QSzxSTWELj",
        "outputId": "6e48e248-72b4-4375-c22d-85fac6fb5c0d"
      },
      "execution_count": 627,
      "outputs": [
        {
          "output_type": "execute_result",
          "data": {
            "text/plain": [
              "{'max_depth': 3,\n",
              " 'min_samples_leaf': 2,\n",
              " 'min_samples_split': 2,\n",
              " 'n_estimators': 10}"
            ]
          },
          "metadata": {},
          "execution_count": 627
        }
      ]
    },
    {
      "cell_type": "code",
      "source": [
        "clf = RandomForestClassifier(class_weight='balanced', max_depth=3, min_samples_leaf=2, min_samples_split=2, n_estimators=10, random_state=0)"
      ],
      "metadata": {
        "id": "dYhWsfaiWGWC"
      },
      "execution_count": 628,
      "outputs": []
    },
    {
      "cell_type": "code",
      "source": [
        "clf.fit(X_train,y_train)"
      ],
      "metadata": {
        "colab": {
          "base_uri": "https://localhost:8080/"
        },
        "id": "r2m_VB5qbg8x",
        "outputId": "35092d15-36b1-4ecf-ca65-0a443dd986bd"
      },
      "execution_count": 629,
      "outputs": [
        {
          "output_type": "execute_result",
          "data": {
            "text/plain": [
              "RandomForestClassifier(class_weight='balanced', max_depth=3, min_samples_leaf=2,\n",
              "                       n_estimators=10, random_state=0)"
            ]
          },
          "metadata": {},
          "execution_count": 629
        }
      ]
    },
    {
      "cell_type": "code",
      "source": [
        "test_predict = clf.predict(X_test)\n",
        "test_predict"
      ],
      "metadata": {
        "colab": {
          "base_uri": "https://localhost:8080/"
        },
        "id": "BZX28qnrbj9B",
        "outputId": "281ce054-4154-4c95-a756-d840597424ae"
      },
      "execution_count": 630,
      "outputs": [
        {
          "output_type": "execute_result",
          "data": {
            "text/plain": [
              "array([1, 0, 0, 1, 0, 1, 0, 0, 1, 1, 0, 1, 1, 1, 0, 0, 0, 1, 0, 1, 0, 0,\n",
              "       1, 0, 0, 0, 1, 0, 0, 1, 0, 1, 1, 1, 0, 1, 1, 0, 0, 0, 0, 1, 0, 1,\n",
              "       0, 1, 0, 0, 0, 0, 1, 0, 1, 0, 0, 0, 0, 0, 1, 0, 0, 0, 1, 0, 0, 0,\n",
              "       1, 1, 0, 0, 1, 1, 0, 0, 0, 0, 1, 0, 1, 0, 0, 1, 0, 0, 1, 0, 0, 1,\n",
              "       1, 1, 0, 0, 0, 0, 0, 1, 0, 0, 1, 0, 0, 0, 0, 0, 0, 0, 1, 1, 1, 1,\n",
              "       0, 0, 0, 0, 0, 1, 1, 1, 0, 0, 0, 0, 1, 1, 1, 1, 1, 1, 0, 0, 1, 0,\n",
              "       1, 0, 1, 1, 0, 0, 1, 0, 1, 1, 1, 0, 0, 0, 0, 0, 0, 1, 1, 0, 1, 0,\n",
              "       1, 0, 1, 1, 0, 1, 1, 0, 0, 1, 0, 1, 1, 0, 0, 1, 0, 1, 1, 1, 0, 0,\n",
              "       1, 1, 0, 0, 0, 0, 0, 1, 0, 0, 1, 1, 1, 1, 0, 0, 1, 0, 0])"
            ]
          },
          "metadata": {},
          "execution_count": 630
        }
      ]
    },
    {
      "cell_type": "markdown",
      "source": [
        "#Результаты"
      ],
      "metadata": {
        "id": "FPrrDakb8QKu"
      }
    },
    {
      "cell_type": "code",
      "source": [
        "sklearn.metrics.confusion_matrix(y_test, test_predict)"
      ],
      "metadata": {
        "colab": {
          "base_uri": "https://localhost:8080/"
        },
        "id": "v0O__udUbmmE",
        "outputId": "41319e58-3b65-49ae-d98e-9165ca2c620a"
      },
      "execution_count": 631,
      "outputs": [
        {
          "output_type": "execute_result",
          "data": {
            "text/plain": [
              "array([[71, 27],\n",
              "       [42, 55]])"
            ]
          },
          "metadata": {},
          "execution_count": 631
        }
      ]
    },
    {
      "cell_type": "code",
      "source": [
        "sklearn.metrics.accuracy_score(y_test, test_predict)"
      ],
      "metadata": {
        "colab": {
          "base_uri": "https://localhost:8080/"
        },
        "id": "m9LkkeP0pWE1",
        "outputId": "b4c71765-2383-4617-834d-802a8077e747"
      },
      "execution_count": 632,
      "outputs": [
        {
          "output_type": "execute_result",
          "data": {
            "text/plain": [
              "0.6461538461538462"
            ]
          },
          "metadata": {},
          "execution_count": 632
        }
      ]
    },
    {
      "cell_type": "code",
      "source": [
        "sklearn.metrics.roc_auc_score(y_test, test_predict)"
      ],
      "metadata": {
        "colab": {
          "base_uri": "https://localhost:8080/"
        },
        "id": "5EI1YTtDbp3i",
        "outputId": "12259b42-23cf-4ecd-91e9-b350454959d0"
      },
      "execution_count": 633,
      "outputs": [
        {
          "output_type": "execute_result",
          "data": {
            "text/plain": [
              "0.6457500525983589"
            ]
          },
          "metadata": {},
          "execution_count": 633
        }
      ]
    },
    {
      "cell_type": "code",
      "source": [
        "clf.score(X_train,y_train)"
      ],
      "metadata": {
        "colab": {
          "base_uri": "https://localhost:8080/"
        },
        "id": "8KmmFT1hbvL4",
        "outputId": "300a70fc-d171-4c74-a766-6c76e3231402"
      },
      "execution_count": 634,
      "outputs": [
        {
          "output_type": "execute_result",
          "data": {
            "text/plain": [
              "0.6607929515418502"
            ]
          },
          "metadata": {},
          "execution_count": 634
        }
      ]
    },
    {
      "cell_type": "code",
      "source": [
        "#как можно заметить значения метрик точности на тестовом и тренировочном датасетах не так сильно отличаются, поэтому можно сказать, что модель не переобучена"
      ],
      "metadata": {
        "id": "eWR5ZQMt8Wxw"
      },
      "execution_count": 635,
      "outputs": []
    },
    {
      "cell_type": "markdown",
      "source": [
        "#делаем прогноз"
      ],
      "metadata": {
        "id": "Q_-M1lAq8maZ"
      }
    },
    {
      "cell_type": "code",
      "source": [
        "test1 = pd.merge(testing, new_stats, on = ['map_id', 'team1_id'], how = 'inner')\n",
        "testing1 = pd.merge(test1, new_stats1, on = ['map_id', 'team2_id'], how = 'inner')"
      ],
      "metadata": {
        "id": "sk9M3qh1pfEm"
      },
      "execution_count": 636,
      "outputs": []
    },
    {
      "cell_type": "code",
      "source": [
        "testing1['maps_diff'] = testing1['av_maps_x']- testing1['av_maps_y']\n",
        "testing1['av_entry_diff'] = testing1['av_entry_x']- testing1['av_entry_y']\n",
        "testing1['av_entry_death_diff'] = testing1['av_entry_death_x']- testing1['av_entry_death_y']\n",
        "testing1['av_saved_mates_diff'] = testing1['saved_mates_x']- testing1['saved_mates_y']\n",
        "testing1['av_kd_diff'] = testing1['av_kd_x']-testing1['av_kd_y']\n",
        "testing1['av_damage_diff'] = testing1['av_damage_x']- testing1['av_damage_y']\n",
        "testing1['top_player_diff'] = testing1['top_player_x']-testing1['top_player_y']\n",
        "testing1['av_rating'] = testing1['av_rating_x']-testing1['av_rating_y']\n",
        "testing1['worst_player_diff'] = testing1['worst_player_x']-testing1['worst_player_y']\n",
        "testing1['assists_diff'] = testing1['assists_x']-testing1['assists_y']\n",
        "testing1['headshots_diff'] = testing1['headshots_x']-testing1['headshots_y']\n",
        "testing1['entry_wins_diff'] = testing1['entry_wins_x']-testing1['entry_wins_y']"
      ],
      "metadata": {
        "id": "Zs1OiwYhyyrD"
      },
      "execution_count": 637,
      "outputs": []
    },
    {
      "cell_type": "code",
      "source": [
        "X_testing1 = testing1[['maps_diff','av_saved_mates_diff', 'av_kd_diff', 'av_entry_death_diff', 'av_entry_diff', 'av_damage_diff',\n",
        "           'top_player_diff','av_rating', 'entry_wins_diff']]"
      ],
      "metadata": {
        "id": "K8penZCszqTA"
      },
      "execution_count": 638,
      "outputs": []
    },
    {
      "cell_type": "code",
      "source": [
        "test_predict = clf.predict(X_testing1)\n",
        "testing1['prediction'] = test_predict"
      ],
      "metadata": {
        "id": "fgiNDMM1zQpJ"
      },
      "execution_count": 639,
      "outputs": []
    }
  ]
}